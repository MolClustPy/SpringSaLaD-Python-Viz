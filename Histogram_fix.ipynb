{
 "cells": [
  {
   "cell_type": "code",
   "execution_count": 1,
   "metadata": {},
   "outputs": [],
   "source": [
    "from Visualization.ssalad_ClusterAnalysis import *"
   ]
  },
  {
   "cell_type": "code",
   "execution_count": 2,
   "metadata": {},
   "outputs": [],
   "source": [
    "#file = \"./test_dataset/A5_B5_flex_3nm_2nm_count_200_SIM_FOLDER/A5_B5_flex_3nm_2nm_count_200_SIM.txt\"\n",
    "file = 'Executable/output/Simulation0_SIM_FOLDER/Simulation0_SIM.txt'"
   ]
  },
  {
   "cell_type": "code",
   "execution_count": 3,
   "metadata": {},
   "outputs": [
    {
     "name": "stdout",
     "output_type": "stream",
     "text": [
      "\n",
      "Class : ClusterAnalysis\n",
      "System : Simulation0_SIM.txt\n",
      "Total_Time : 0.01 seconds\t\tnumRuns : 5\n",
      "\n",
      "Executable/output/Simulation0_SIM_FOLDER\n",
      "TimeCourse_calc : [****************************************] 100%\n",
      "Done\n",
      "Execution time : 0.6386 secs\n",
      "Distribution_calc : [****************************************] 100%\n",
      "Execution time : 0.0160 secs\n"
     ]
    }
   ],
   "source": [
    "ca = ClusterAnalysis(file)\n",
    "print(ca)\n",
    "ca.getMeanTrajectory(SingleTraj=False)\n",
    "ca.getSteadyStateDistribution(SS_timePoints=[0.01])"
   ]
  }
 ],
 "metadata": {
  "kernelspec": {
   "display_name": "Python 3",
   "language": "python",
   "name": "python3"
  },
  "language_info": {
   "codemirror_mode": {
    "name": "ipython",
    "version": 3
   },
   "file_extension": ".py",
   "mimetype": "text/x-python",
   "name": "python",
   "nbconvert_exporter": "python",
   "pygments_lexer": "ipython3",
   "version": "3.10.4"
  }
 },
 "nbformat": 4,
 "nbformat_minor": 2
}
