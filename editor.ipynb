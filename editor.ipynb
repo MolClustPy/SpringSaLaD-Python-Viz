{
 "cells": [
  {
   "cell_type": "code",
   "execution_count": 1,
   "metadata": {},
   "outputs": [],
   "source": [
    "from editor import *"
   ]
  },
  {
   "cell_type": "code",
   "execution_count": 2,
   "metadata": {},
   "outputs": [],
   "source": [
    "search_directory = 'Input_File_Editor'\n",
    "\n",
    "counts = [1,1,1]\n",
    "on_rate = [1,1,1,1,1]\n",
    "off_rate = [1,1,1,1,1]\n",
    "\n",
    "output_path = 'Executable\\output\\modified_input.txt'\n",
    "\n",
    "edit_input_file(search_directory, output_path=output_path, counts=counts, on_rate=on_rate)"
   ]
  }
 ],
 "metadata": {
  "kernelspec": {
   "display_name": "Python 3",
   "language": "python",
   "name": "python3"
  },
  "language_info": {
   "codemirror_mode": {
    "name": "ipython",
    "version": 3
   },
   "file_extension": ".py",
   "mimetype": "text/x-python",
   "name": "python",
   "nbconvert_exporter": "python",
   "pygments_lexer": "ipython3",
   "version": "3.10.4"
  }
 },
 "nbformat": 4,
 "nbformat_minor": 2
}
