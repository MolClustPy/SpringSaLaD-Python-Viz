{
 "cells": [
  {
   "cell_type": "code",
   "execution_count": 1,
   "metadata": {},
   "outputs": [],
   "source": [
    "from Visualization import *"
   ]
  },
  {
   "cell_type": "code",
   "execution_count": 2,
   "metadata": {},
   "outputs": [
    {
     "name": "stdout",
     "output_type": "stream",
     "text": [
      "Class : CrossLinkIndex\n",
      "System : Examples\\Nephrin-Nck-NWasp\\Final_version_test_SIMULATIONS\\Simulation0_SIM_SIMULATIONS\\Simulation0_SIM_FOLDER\\Simulation0_SIM.txt\n",
      "Calculating SI ...\n",
      "Examples/Nephrin-Nck-NWasp/Final_version_test_SIMULATIONS/Simulation0_SIM_SIMULATIONS/Simulation0_SIM_FOLDER\n"
     ]
    },
    {
     "ename": "TypeError",
     "evalue": "'module' object is not callable",
     "output_type": "error",
     "traceback": [
      "\u001b[1;31m---------------------------------------------------------------------------\u001b[0m",
      "\u001b[1;31mTypeError\u001b[0m                                 Traceback (most recent call last)",
      "Cell \u001b[1;32mIn[2], line 1\u001b[0m\n\u001b[1;32m----> 1\u001b[0m \u001b[43mScatter_plot\u001b[49m\u001b[38;5;241;43m.\u001b[39;49m\u001b[43mplot\u001b[49m\u001b[43m(\u001b[49m\u001b[43m)\u001b[49m\n",
      "File \u001b[1;32mc:\\Users\\cpero\\Downloads\\SpringSaLaD-Python-Viz\\Visualization\\Scatter_plot.py:24\u001b[0m, in \u001b[0;36mplot\u001b[1;34m()\u001b[0m\n\u001b[0;32m     19\u001b[0m \u001b[38;5;66;03m#d = cl.mapSiteToMolecule()\u001b[39;00m\n\u001b[0;32m     20\u001b[0m \u001b[38;5;66;03m#rif = ReadInputFile(txtfile)\u001b[39;00m\n\u001b[0;32m     21\u001b[0m \u001b[38;5;66;03m#print(rif.getReactiveSites())\u001b[39;00m\n\u001b[0;32m     22\u001b[0m \u001b[38;5;66;03m#print(len(cl.getActiveSiteIDs())) \u001b[39;00m\n\u001b[0;32m     23\u001b[0m CLI\u001b[38;5;241m.\u001b[39mgetSI(vf) \n\u001b[1;32m---> 24\u001b[0m \u001b[43mCLI\u001b[49m\u001b[38;5;241;43m.\u001b[39;49m\u001b[43mgetSI_stat\u001b[49m\u001b[43m(\u001b[49m\u001b[43m)\u001b[49m\n",
      "File \u001b[1;32mc:\\Users\\cpero\\Downloads\\SpringSaLaD-Python-Viz\\Visualization\\DataPy.py:33\u001b[0m, in \u001b[0;36mdisplayExecutionTime.<locals>.wrapper\u001b[1;34m(*args, **kwrgs)\u001b[0m\n\u001b[0;32m     31\u001b[0m \u001b[38;5;28;01mdef\u001b[39;00m \u001b[38;5;21mwrapper\u001b[39m(\u001b[38;5;241m*\u001b[39margs, \u001b[38;5;241m*\u001b[39m\u001b[38;5;241m*\u001b[39mkwrgs):\n\u001b[0;32m     32\u001b[0m     t1 \u001b[38;5;241m=\u001b[39m time()\n\u001b[1;32m---> 33\u001b[0m     func(\u001b[38;5;241m*\u001b[39margs, \u001b[38;5;241m*\u001b[39m\u001b[38;5;241m*\u001b[39mkwrgs)\n\u001b[0;32m     34\u001b[0m     t2 \u001b[38;5;241m=\u001b[39m time()\n\u001b[0;32m     35\u001b[0m     delta \u001b[38;5;241m=\u001b[39m t2 \u001b[38;5;241m-\u001b[39m t1\n",
      "File \u001b[1;32mc:\\Users\\cpero\\Downloads\\SpringSaLaD-Python-Viz\\Visualization\\ClusterCrossLinking.py:213\u001b[0m, in \u001b[0;36mCrossLinkIndex.getSI_stat\u001b[1;34m(self)\u001b[0m\n\u001b[0;32m    211\u001b[0m outpath \u001b[38;5;241m=\u001b[39m \u001b[38;5;28mself\u001b[39m\u001b[38;5;241m.\u001b[39msimObj\u001b[38;5;241m.\u001b[39mgetOutpath(\u001b[38;5;124m\"\u001b[39m\u001b[38;5;124mSI_stat\u001b[39m\u001b[38;5;124m\"\u001b[39m)\n\u001b[0;32m    212\u001b[0m \u001b[38;5;28mprint\u001b[39m(\u001b[38;5;28mself\u001b[39m\u001b[38;5;241m.\u001b[39msimObj\u001b[38;5;241m.\u001b[39mgetInpath())\n\u001b[1;32m--> 213\u001b[0m vfiles \u001b[38;5;241m=\u001b[39m \u001b[43mglob\u001b[49m\u001b[43m(\u001b[49m\u001b[38;5;28;43mself\u001b[39;49m\u001b[38;5;241;43m.\u001b[39;49m\u001b[43msimObj\u001b[49m\u001b[38;5;241;43m.\u001b[39;49m\u001b[43mgetInpath\u001b[49m\u001b[43m(\u001b[49m\u001b[43m)\u001b[49m\u001b[43m \u001b[49m\u001b[38;5;241;43m+\u001b[39;49m\u001b[43m \u001b[49m\u001b[38;5;124;43m\"\u001b[39;49m\u001b[38;5;124;43m/viewer_files/*.txt\u001b[39;49m\u001b[38;5;124;43m\"\u001b[39;49m\u001b[43m)\u001b[49m\n\u001b[0;32m    214\u001b[0m \u001b[38;5;66;03m#vfiles = glob(self.simObj.getInpath() + \"/test/*.txt\")\u001b[39;00m\n\u001b[0;32m    215\u001b[0m IVF \u001b[38;5;241m=\u001b[39m [] \u001b[38;5;66;03m# Incomplete Viewer File\u001b[39;00m\n",
      "\u001b[1;31mTypeError\u001b[0m: 'module' object is not callable"
     ]
    }
   ],
   "source": [
    "Scatter_plot.plot()"
   ]
  }
 ],
 "metadata": {
  "kernelspec": {
   "display_name": "Python 3",
   "language": "python",
   "name": "python3"
  },
  "language_info": {
   "codemirror_mode": {
    "name": "ipython",
    "version": 3
   },
   "file_extension": ".py",
   "mimetype": "text/x-python",
   "name": "python",
   "nbconvert_exporter": "python",
   "pygments_lexer": "ipython3",
   "version": "3.10.4"
  }
 },
 "nbformat": 4,
 "nbformat_minor": 2
}
