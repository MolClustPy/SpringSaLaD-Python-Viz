{
 "cells": [
  {
   "cell_type": "code",
   "execution_count": 10,
   "metadata": {},
   "outputs": [],
   "source": [
    "import os\n",
    "from input_file_extraction import *\n",
    "import pandas as pd"
   ]
  },
  {
   "cell_type": "code",
   "execution_count": 8,
   "metadata": {},
   "outputs": [
    {
     "name": "stdout",
     "output_type": "stream",
     "text": [
      "['', 'pY_SH2 binding_1', '       ', 'NEPHRIN', ' : ', 'pTyr_1_2', ' : ', 'p', '  +  ', 'NCK', ' : ', 'SH2', ' : ', 'Any_State', '  kon 100.0  koff 100.0  Bond_Length 1.0']\n",
      "['', 'PRM_SH3_1', '       ', 'NCK', ' : ', 'SH3_1', ' : ', 'Any_State', '  +  ', 'NWASP', ' : ', 'PRM', ' : ', 'Any_State', '  kon 100.0  koff 10000.0  Bond_Length 1.0']\n",
      "['', 'PRM_SH3_2', '       ', 'NCK', ' : ', 'SH3_2', ' : ', 'Any_State', '  +  ', 'NWASP', ' : ', 'PRM', ' : ', 'Any_State', '  kon 100.0  koff 10000.0  Bond_Length 1.0']\n",
      "['', 'PRM_SH3_3', '       ', 'NCK', ' : ', 'SH3_3', ' : ', 'Any_State', '  +  ', 'NWASP', ' : ', 'PRM', ' : ', 'Any_State', '  kon 100.0  koff 10000.0  Bond_Length 1.0']\n",
      "['', 'pY_SH2_binding_2', '       ', 'NEPHRIN', ' : ', 'pTyr_3', ' : ', 'p', '  +  ', 'NCK', ' : ', 'SH2', ' : ', 'Any_State', '  kon 100.0  koff 100.0  Bond_Length 1.0']\n"
     ]
    }
   ],
   "source": [
    "#directory_path = os.path.join('Examples','R_L_test_difficult_SIMULATIONS','Simulation0_SIM_SIMULATIONS')\n",
    "directory_path = r'Examples\\Nephrin-Nck-NWasp\\Final_version_test_SIMULATIONS\\Simulation0_SIM_FOLDER'\n",
    "_, split_file = read_input_file(directory_path)\n",
    "_, _, binding_reactions = read_reactions(split_file)\n",
    "\n",
    "for i, reaction in enumerate(binding_reactions):\n",
    "    binding_reactions[i] = reaction.split('\\'')\n",
    "    print(binding_reactions[i])"
   ]
  },
  {
   "cell_type": "code",
   "execution_count": 24,
   "metadata": {},
   "outputs": [
    {
     "name": "stdout",
     "output_type": "stream",
     "text": [
      "Moleclues\n",
      "NCK        [pY_SH2 binding_1, PRM_SH3_1, PRM_SH3_2, PRM_S...\n",
      "NEPHRIN                 [pY_SH2 binding_1, pY_SH2_binding_2]\n",
      "NWASP                      [PRM_SH3_1, PRM_SH3_2, PRM_SH3_3]\n",
      "Name: Reactions, dtype: object\n"
     ]
    }
   ],
   "source": [
    "reactions_and_molecules = []\n",
    "for reaction in binding_reactions:\n",
    "    reactions_and_molecules.append([reaction[1], [reaction[3], reaction[9]]])\n",
    "\n",
    "data_frame = pd.DataFrame(reactions_and_molecules)\n",
    "data_frame.columns = ['Reactions', 'Moleclues']\n",
    "exploded = data_frame.explode('Moleclues')\n",
    "regrouped = exploded.groupby('Moleclues')['Reactions'].agg(list)\n",
    "print(regrouped)"
   ]
  }
 ],
 "metadata": {
  "kernelspec": {
   "display_name": "Python 3",
   "language": "python",
   "name": "python3"
  },
  "language_info": {
   "codemirror_mode": {
    "name": "ipython",
    "version": 3
   },
   "file_extension": ".py",
   "mimetype": "text/x-python",
   "name": "python",
   "nbconvert_exporter": "python",
   "pygments_lexer": "ipython3",
   "version": "3.10.11"
  }
 },
 "nbformat": 4,
 "nbformat_minor": 2
}
